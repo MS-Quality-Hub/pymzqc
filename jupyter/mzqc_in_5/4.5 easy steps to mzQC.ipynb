{
 "cells": [
  {
   "cell_type": "markdown",
   "metadata": {},
   "source": [
    "# Welcome to the 5-Minute mzQC interactive guide with python!\n",
    "This python notebook will guide you through your first steps with mzQC in python. We will calculate a QC metric from our data, visualise it, put it in a controlled vocabulary  object, add some metadata about the ms-experiment the data came from, and finally create our first mzQC file! (We assume it is not the first time you get your feet wet with python, otherwise rather plan for 15 minutes.)"
   ]
  },
  {
   "cell_type": "markdown",
   "metadata": {},
   "source": [
    "## Setting the scene\n",
    "We start right in by loading the mzQC python library which you can install from [here](https://github.com/bigbio/mzqc-pylib). You won't need to install anything for this notebook, instead, we will load some more libraries to load data from the web and illustrate the 'QC' metric we are calculating."
   ]
  },
  {
   "cell_type": "code",
   "execution_count": 1,
   "metadata": {},
   "outputs": [],
   "source": [
    "from mzqc import MZQCFile as qc\n",
    "import numpy as np\n",
    "from io import StringIO\n",
    "import requests\n",
    "import matplotlib.pyplot as plt\n",
    "\n",
    "# Get some input data from the interwebs\n",
    "url = \"https://raw.githubusercontent.com/percolator/percolator/master/data/percolator/tab/percolatorTab\"\n",
    "r = requests.get(url)\n",
    "if r.ok:\n",
    "    data = r.content.decode('utf8')\n",
    "\n",
    "data = '\\n'.join(data.split('\\n')[2:])  # remove the nasty extra header row"
   ]
  },
  {
   "cell_type": "markdown",
   "metadata": {},
   "source": [
    "The data is identification data from a yeast digest 2h gradient run, just before you would subject your findings to [percolator](https://github.com/percolator/percolator). We will take a closer look at the mass discrepancies of the found PSMs."
   ]
  },
  {
   "cell_type": "code",
   "execution_count": 2,
   "metadata": {},
   "outputs": [],
   "source": [
    "dm_source = np.loadtxt(StringIO(data), usecols=(2,3,4), delimiter='\\t', dtype={'names': ('ScanNr','ExpMass', 'CalcMass'), 'formats': ('i4', 'f4', 'f4')})\n",
    "dm = dm_source['CalcMass'] - dm_source['ExpMass']"
   ]
  },
  {
   "cell_type": "markdown",
   "metadata": {},
   "source": [
    "## Visualising our data\n",
    "It is good practice to have a look at the data with some basic visualisation. Next, we will plot the mass errors in a histogram."
   ]
  },
  {
   "cell_type": "code",
   "execution_count": 3,
   "metadata": {},
   "outputs": [
    {
     "data": {
      "text/plain": "[Text(0.5, 1.0, 'Delta Mass Histogram'), Text(0, 0.5, 'Frequency')]"
     },
     "execution_count": 3,
     "metadata": {},
     "output_type": "execute_result"
    },
    {
     "data": {
      "image/png": "[encoded data removed]",
      "text/plain": "<Figure size 432x288 with 1 Axes>"
     },
     "metadata": {
      "needs_background": "light"
     },
     "output_type": "display_data"
    }
   ],
   "source": [
    "plt.hist(dm, bins=10)\n",
    "plt.gca().set(title='Delta Mass Histogram', ylabel='Frequency')"
   ]
  },
  {
   "cell_type": "markdown",
   "metadata": {},
   "source": [
    "The distribution seems centered around 0, which is good but the histogram has a rather wide bin setting, so we can check with another visualistation. Let's take a look at the violin plot of the absolute error."
   ]
  },
  {
   "cell_type": "code",
   "execution_count": 4,
   "metadata": {},
   "outputs": [
    {
     "data": {
      "text/plain": "[Text(0.7000000000000001, 0, ''),\n Text(0.8, 0, ''),\n Text(0.9000000000000001, 0, ''),\n Text(1.0, 0, ''),\n Text(1.1, 0, ''),\n Text(1.2000000000000002, 0, ''),\n Text(1.3000000000000003, 0, '')]"
     },
     "execution_count": 4,
     "metadata": {},
     "output_type": "execute_result"
    },
    {
     "data": {
      "image/png": "[encoded data removed]",
      "text/plain": "<Figure size 432x288 with 1 Axes>"
     },
     "metadata": {
      "needs_background": "light"
     },
     "output_type": "display_data"
    }
   ],
   "source": [
    "fig,ax = plt.subplots(1)\n",
    "\n",
    "ax.violinplot(np.abs(dm))\n",
    "# plt.violinplot(dm)\n",
    "\n",
    "ax.set_ylabel('Mass error')\n",
    "ax.set_xlabel('Frequency')\n",
    "\n",
    "# Turn off x tick labels\n",
    "ax.set_xticklabels([])"
   ]
  },
  {
   "cell_type": "markdown",
   "metadata": {},
   "source": [
    "This looks suspicious, we better make some QC metrics to document that! We will describe the found distribution with $\\sigma,Q_1,Q_2,Q_3$ and put it in a mzQC file to share with others.\n",
    "\n",
    "## Creating our metrics"
   ]
  },
  {
   "cell_type": "code",
   "execution_count": 5,
   "metadata": {},
   "outputs": [
    {
     "name": "stdout",
     "output_type": "stream",
     "text": [
      "Mass error Q1=-0.0098876953125, Q2=0.0, Q3=0.00299072265625, sigma=0.008799662813544273\n"
     ]
    }
   ],
   "source": [
    "qm1 = qc.QualityMetric(accession=\"QC:0000000\", name=\"Mass error sigma\", value=np.std(dm))\n",
    "\n",
    "q1,q2,q3 = np.quantile(dm, [0.25,0.5,0.75])\n",
    "qm2 = qc.QualityMetric(accession=\"QC:0000000\", name=\"Mass error Q1, Q2, Q3\", value=(q1,q2,q3))\n",
    "\n",
    "print(\"Mass error Q1={}, Q2={}, Q3={}, sigma={}\".format(qm2.value[0],qm2.value[1],qm2.value[2],qm1.value))"
   ]
  },
  {
   "cell_type": "markdown",
   "metadata": {},
   "source": [
    "Creating a controlled vocabulary defined metric in mzQC is easy! Look for the fitting entry in [our ontology](https://github.com/HUPO-PSI/mzQC/blob/master/cv/qc-cv.obo) or request a [new one](https://github.com/HUPO-PSI/mzQC/issues/new?assignees=julianu&labels=request+for+new+CV+entry&template=request-for-new-cv-entry.md&title=%5BCV+request%5D). Note the name and the accession, then set them as the `QualityMetric`s name and accession. We also need to keep a reference from which ontology this metric came from, so we note this as 'QC'. We will provide details about the ontologies used later. \n",
    "Setting the actual value of a metric is easy, just collect the values you calculated. (They have to be appropriate to the definition of the metric, though.)\n",
    "\n",
    "## Keep track of your sources"
   ]
  },
  {
   "cell_type": "code",
   "execution_count": 6,
   "metadata": {},
   "outputs": [],
   "source": [
    "infi_peak = qc.InputFile(name=\"file.raw\",location=\"file:///dev/null/file.raw\", \n",
    "                    fileFormat=qc.CvParameter(accession=\"MS:1000563\", name=\"Thermo RAW format\"), \n",
    "                    fileProperties=[qc.CvParameter(accession=\"MS:1000747\", \n",
    "                                                    name=\"completion time\", \n",
    "                                                    value=\"2015-10-03-T10:18:27Z\"),\n",
    "                            qc.CvParameter(accession=\"MS:1000569\", \n",
    "                                            name=\"SHA-1\", \n",
    "                                            value=\"76de62feccaaaadb608e89d897db57135e39ad87\"\n",
    "                            ),\n",
    "                            qc.CvParameter(accession=\"MS:1000031\", \n",
    "                                            name=\"instrument model\",\n",
    "                                            value=\"LTQ Orbitrap Velos\"\n",
    "                            )\n",
    "            ])"
   ]
  },
  {
   "cell_type": "markdown",
   "metadata": {},
   "source": [
    "It is crucial to provide some more information apart from the metrics themselves. To put the metrics into context, it is essential to keep track of the peak file or acquisition file that constitutes the basis to later data. In our case it is a thermo raw file from which we did the identifications from which we calculated our metric. We need to keep some more information about the origins file apart from the name:\n",
    " * the completion time\n",
    " * the checksum\n",
    " * the instrument type "
   ]
  },
  {
   "cell_type": "code",
   "execution_count": 7,
   "metadata": {},
   "outputs": [],
   "source": [
    "infi_ids = qc.InputFile(name=\"afteridbeforepercolat.tsv\",location=\"file:///dev/null\", \n",
    "                    fileFormat=qc.CvParameter(accession=\"MS:1000914\", \n",
    "                                name=\"tab delimited text format\"), \n",
    "                    )"
   ]
  },
  {
   "cell_type": "markdown",
   "metadata": {},
   "source": [
    "We also want at least to know about the software that was involved in the process of creating the metrics. In our case that is the software that produced the identifications - comet, which has a PSI-MS cv term we can use, and obviously this python notebook."
   ]
  },
  {
   "cell_type": "code",
   "execution_count": 8,
   "metadata": {},
   "outputs": [],
   "source": [
    "anso_mzqc = qc.AnalysisSoftware(accession=\"MS:1002251\", \n",
    "                                name=\"Comet\",\n",
    "                                version=\"2018.01.1\", \n",
    "                                uri=\"http://proteomicsresource.washington.edu/sequest.php\")\n",
    "anso_nb = qc.AnalysisSoftware(version=\"0.1.2.3\", uri=\"file:///mylocal/jupyter/host\")"
   ]
  },
  {
   "cell_type": "markdown",
   "metadata": {},
   "source": [
    "## Assemble a mzQC file (object)\n",
    "\n",
    "Now we have all the neccessary information in place to build a descriptive object of the experiment and analysis for the mzQC file:\n",
    "\n",
    "The `metadata`\n",
    "* inputFiles\n",
    "* analysisSoftware\n",
    "\n",
    "and our `qualityMetrics`\n",
    "* qm1\n",
    "* qm2"
   ]
  },
  {
   "cell_type": "code",
   "execution_count": 9,
   "metadata": {},
   "outputs": [],
   "source": [
    "meta = qc.MetaDataParameters(inputFiles=[infi_peak, infi_ids],analysisSoftware=[anso_mzqc,anso_nb])\n",
    "\n",
    "rq = qc.RunQuality(metadata=meta, qualityMetrics=[qm1, qm2])"
   ]
  },
  {
   "cell_type": "markdown",
   "metadata": {},
   "source": [
    "Now it is time to provide some more information about the ontologies which' terms we were using, so that the next one to read our file can look up the metric definitions, understand what the values mean, and use the data in further analysis."
   ]
  },
  {
   "cell_type": "code",
   "execution_count": 10,
   "metadata": {},
   "outputs": [],
   "source": [
    "cv_qc = qc.ControlledVocabulary(name=\"Proteomics Standards Initiative Quality Control Ontology\",version=\"0.1.0\", uri=\"https://github.com/HUPO-PSI/qcML-development/blob/master/cv/v0_1_0/qc-cv.obo\")\n",
    "\n",
    "cv_ms = qc.ControlledVocabulary(name=\"Proteomics Standards Initiative Mass Spectrometry Ontology\",version=\"4.1.7\", uri=\"https://github.com/HUPO-PSI/psi-ms-CV/blob/master/psi-ms.obo\")"
   ]
  },
  {
   "cell_type": "markdown",
   "metadata": {},
   "source": [
    "Finally we can put the last pieces together and form a mzQC file. We also note the current time in _ISO 8601 format_, the version of the mzQC format, we were writing. And so we made our first mzQC file."
   ]
  },
  {
   "cell_type": "code",
   "execution_count": 11,
   "metadata": {},
   "outputs": [],
   "source": [
    "from datetime import datetime\n",
    "mzqc = qc.MzQcFile(version=\"1.0.0\", creationDate=datetime.now().isoformat(), runQualities=[rq], setQualities=[], controlledVocabularies=[cv_qc, cv_ms])"
   ]
  },
  {
   "cell_type": "markdown",
   "metadata": {},
   "source": [
    "With some extra python notebook _magic_, we can even download the fruit of our labour. (You need to execute all cells successfully in order to get the download link.)"
   ]
  },
  {
   "cell_type": "code",
   "execution_count": 12,
   "metadata": {},
   "outputs": [
    {
     "data": {
      "text/html": "<a download=\"first.mzQC\" href=\"data:application/json;base64,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\" target=\"_blank\">our first mzqc file</a>",
      "text/plain": "<IPython.core.display.HTML object>"
     },
     "execution_count": 12,
     "metadata": {},
     "output_type": "execute_result"
    }
   ],
   "source": [
    "from IPython.display import HTML\n",
    "import base64\n",
    "def download_mzqc(mzqc, title, filename):\n",
    "    inmem_file = qc.JsonSerialisable.ToJson(mzqc)\n",
    "    mzqc_b64 = base64.b64encode(inmem_file.encode())\n",
    "    payload = mzqc_b64.decode()\n",
    "    html = '<a download=\"{filename}\" href=\"data:application/json;base64,{payload}\" target=\"_blank\">{title}</a>'\n",
    "    html = html.format(payload=payload,title=title,filename=filename)\n",
    "    return HTML(html)\n",
    "\n",
    "download_mzqc(mzqc, \"our first mzqc file\", \"first.mzQC\")"
   ]
  }
 ],
 "metadata": {
  "kernelspec": {
   "display_name": "Python 3.6.9 64-bit",
   "name": "python369jvsc74a57bd04cd7ab41f5fca4b9b44701077e38c5ffd31fe66a6cab21e0214b68d958d0e462"
  },
  "language_info": {
   "name": "python",
   "version": ""
  },
  "orig_nbformat": 3
 },
 "nbformat": 4,
 "nbformat_minor": 2
}
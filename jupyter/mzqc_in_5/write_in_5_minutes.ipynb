{
  "cells": [
    {
      "cell_type": "markdown",
      "metadata": {
        "id": "IL3OJpGZoCoJ"
      },
      "source": [
        "# Welcome to the 5-Minute mzQC interactive guides with python!\n",
        "This python notebook will guide you through your first steps with writing your own mzQC in python. \n",
        "\n",
        "We will calculate a QC metric from our data, visualise it, put it in a controlled vocabulary  object, add some metadata about the ms-experiment the data came from, and finally create our first mzQC file! (We assume it is not the first time you get your feet wet with python, otherwise rather plan for 25 minutes.)"
      ]
    },
    {
      "cell_type": "markdown",
      "metadata": {
        "id": "2Q3PRPFooCoM"
      },
      "source": [
        "## Setting the scene\n",
        "First, we need to install the mzQC python library. When outside of the python notebook, find out [here](https://github.com/MS-Quality-hub/pymzqc) how to install locally (spoiler: usually just `pip install pymzqc`)."
      ]
    },
    {
      "cell_type": "code",
      "source": [
        "!pip install pymzqc"
      ],
      "metadata": {
        "colab": {
          "base_uri": "https://localhost:8080/"
        },
        "id": "c_iK2GkCojkY",
        "outputId": "73b083ff-cd5f-4da2-e91c-9becc549eede"
      },
      "execution_count": 2,
      "outputs": [
        {
          "output_type": "stream",
          "name": "stdout",
          "text": [
            "Looking in indexes: https://pypi.org/simple, https://us-python.pkg.dev/colab-wheels/public/simple/\n",
            "Collecting pymzqc\n",
            "  Downloading pymzqc-1.0.0rc1-py3-none-any.whl (13 kB)\n",
            "Collecting requests>=2.27.1\n",
            "  Downloading requests-2.28.0-py3-none-any.whl (62 kB)\n",
            "\u001b[K     |████████████████████████████████| 62 kB 1.6 MB/s \n",
            "\u001b[?25hRequirement already satisfied: numpy in /usr/local/lib/python3.7/dist-packages (from pymzqc) (1.21.6)\n",
            "Requirement already satisfied: pandas>=1.1.5 in /usr/local/lib/python3.7/dist-packages (from pymzqc) (1.3.5)\n",
            "Collecting pronto<2.2.1\n",
            "  Downloading pronto-2.2.0-py2.py3-none-any.whl (53 kB)\n",
            "\u001b[K     |████████████████████████████████| 53 kB 2.6 MB/s \n",
            "\u001b[?25hRequirement already satisfied: jsonschema>=3.2.0 in /usr/local/lib/python3.7/dist-packages (from pymzqc) (4.3.3)\n",
            "Requirement already satisfied: importlib-resources>=1.4.0 in /usr/local/lib/python3.7/dist-packages (from jsonschema>=3.2.0->pymzqc) (5.7.1)\n",
            "Requirement already satisfied: importlib-metadata in /usr/local/lib/python3.7/dist-packages (from jsonschema>=3.2.0->pymzqc) (4.11.4)\n",
            "Requirement already satisfied: typing-extensions in /usr/local/lib/python3.7/dist-packages (from jsonschema>=3.2.0->pymzqc) (4.1.1)\n",
            "Requirement already satisfied: attrs>=17.4.0 in /usr/local/lib/python3.7/dist-packages (from jsonschema>=3.2.0->pymzqc) (21.4.0)\n",
            "Requirement already satisfied: pyrsistent!=0.17.0,!=0.17.1,!=0.17.2,>=0.14.0 in /usr/local/lib/python3.7/dist-packages (from jsonschema>=3.2.0->pymzqc) (0.18.1)\n",
            "Requirement already satisfied: zipp>=3.1.0 in /usr/local/lib/python3.7/dist-packages (from importlib-resources>=1.4.0->jsonschema>=3.2.0->pymzqc) (3.8.0)\n",
            "Requirement already satisfied: pytz>=2017.3 in /usr/local/lib/python3.7/dist-packages (from pandas>=1.1.5->pymzqc) (2022.1)\n",
            "Requirement already satisfied: python-dateutil>=2.7.3 in /usr/local/lib/python3.7/dist-packages (from pandas>=1.1.5->pymzqc) (2.8.2)\n",
            "Requirement already satisfied: networkx~=2.3 in /usr/local/lib/python3.7/dist-packages (from pronto<2.2.1->pymzqc) (2.6.3)\n",
            "Requirement already satisfied: chardet~=3.0 in /usr/local/lib/python3.7/dist-packages (from pronto<2.2.1->pymzqc) (3.0.4)\n",
            "Collecting fastobo~=0.8.2\n",
            "  Downloading fastobo-0.8.2-cp37-cp37m-manylinux2010_x86_64.manylinux1_x86_64.whl (1.8 MB)\n",
            "\u001b[K     |████████████████████████████████| 1.8 MB 47.4 MB/s \n",
            "\u001b[?25hCollecting frozendict~=1.2\n",
            "  Downloading frozendict-1.2.tar.gz (2.6 kB)\n",
            "Requirement already satisfied: six>=1.5 in /usr/local/lib/python3.7/dist-packages (from python-dateutil>=2.7.3->pandas>=1.1.5->pymzqc) (1.15.0)\n",
            "Requirement already satisfied: certifi>=2017.4.17 in /usr/local/lib/python3.7/dist-packages (from requests>=2.27.1->pymzqc) (2022.6.15)\n",
            "Requirement already satisfied: idna<4,>=2.5 in /usr/local/lib/python3.7/dist-packages (from requests>=2.27.1->pymzqc) (2.10)\n",
            "Requirement already satisfied: charset-normalizer~=2.0.0 in /usr/local/lib/python3.7/dist-packages (from requests>=2.27.1->pymzqc) (2.0.12)\n",
            "Requirement already satisfied: urllib3<1.27,>=1.21.1 in /usr/local/lib/python3.7/dist-packages (from requests>=2.27.1->pymzqc) (1.24.3)\n",
            "Building wheels for collected packages: frozendict\n",
            "  Building wheel for frozendict (setup.py) ... \u001b[?25l\u001b[?25hdone\n",
            "  Created wheel for frozendict: filename=frozendict-1.2-py3-none-any.whl size=3166 sha256=fccb38820a36c1431556bff63f8bc98b4e3b599b6618cb29e5c2fbd165d48f96\n",
            "  Stored in directory: /root/.cache/pip/wheels/68/17/69/ac196dd181e620bba5fae5488e4fd6366a7316dce13cf88776\n",
            "Successfully built frozendict\n",
            "Installing collected packages: frozendict, fastobo, requests, pronto, pymzqc\n",
            "  Attempting uninstall: requests\n",
            "    Found existing installation: requests 2.23.0\n",
            "    Uninstalling requests-2.23.0:\n",
            "      Successfully uninstalled requests-2.23.0\n",
            "\u001b[31mERROR: pip's dependency resolver does not currently take into account all the packages that are installed. This behaviour is the source of the following dependency conflicts.\n",
            "google-colab 1.0.0 requires requests~=2.23.0, but you have requests 2.28.0 which is incompatible.\n",
            "datascience 0.10.6 requires folium==0.2.1, but you have folium 0.8.3 which is incompatible.\u001b[0m\n",
            "Successfully installed fastobo-0.8.2 frozendict-1.2 pronto-2.2.0 pymzqc-1.0.0rc1 requests-2.28.0\n"
          ]
        }
      ]
    },
    {
      "cell_type": "markdown",
      "source": [
        "Then, we start right in by loading pymzqc (`from mzqc`). We'll also utilise some other libraries, too.\n",
        "For example, we will use `requests` to load some data from the web. This we will use as the computational data basis for the 'QC' metric value we are calculating and later visualise in this python notebook."
      ],
      "metadata": {
        "id": "2ykL5FmvqbsO"
      }
    },
    {
      "cell_type": "code",
      "execution_count": 3,
      "metadata": {
        "id": "Al3jW6O7oCoQ"
      },
      "outputs": [],
      "source": [
        "from mzqc import MZQCFile as qc\n",
        "import numpy as np\n",
        "from io import StringIO\n",
        "import requests\n",
        "import matplotlib.pyplot as plt\n",
        "\n",
        "# Get some input data from the interwebs\n",
        "url = \"https://raw.githubusercontent.com/percolator/percolator/master/data/percolator/tab/percolatorTab\"\n",
        "r = requests.get(url)\n",
        "if r.ok:\n",
        "    data = r.content.decode('utf8')\n",
        "\n",
        "data = '\\n'.join(data.split('\\n')[2:])  # remove the nasty extra header row"
      ]
    },
    {
      "cell_type": "markdown",
      "metadata": {
        "id": "ERF94zUxoCoV"
      },
      "source": [
        "The data is identification data from a yeast digest 2h gradient run, just before you would subject your findings to [percolator](https://github.com/percolator/percolator). We will take a closer look at the mass discrepancies of the found PSMs."
      ]
    },
    {
      "cell_type": "code",
      "execution_count": 4,
      "metadata": {
        "id": "Iu2ZTcPOoCoX"
      },
      "outputs": [],
      "source": [
        "dm_source = np.loadtxt(StringIO(data), usecols=(2,3,4), delimiter='\\t', dtype={'names': ('ScanNr','ExpMass', 'CalcMass'), 'formats': ('i4', 'f4', 'f4')})\n",
        "dm = dm_source['CalcMass'] - dm_source['ExpMass']"
      ]
    },
    {
      "cell_type": "markdown",
      "metadata": {
        "id": "Tg1EVdy2oCoY"
      },
      "source": [
        "## Visualising our data\n",
        "It is good practice to have a look at the data with some basic visualisation. Next, we will plot the mass errors in a histogram."
      ]
    },
    {
      "cell_type": "code",
      "execution_count": 5,
      "metadata": {
        "colab": {
          "base_uri": "https://localhost:8080/",
          "height": 298
        },
        "id": "Wf3z_YY0oCoZ",
        "outputId": "07553fb5-354c-4075-de53-72be128a5f91"
      },
      "outputs": [
        {
          "output_type": "execute_result",
          "data": {
            "text/plain": [
              "[Text(0, 0.5, 'Frequency'), Text(0.5, 1.0, 'Delta Mass Histogram')]"
            ]
          },
          "metadata": {},
          "execution_count": 5
        },
        {
          "output_type": "display_data",
          "data": {
            "text/plain": [
              "<Figure size 432x288 with 1 Axes>"
            ],
            "image/png": "[encoded data removed]"
          },
          "metadata": {
            "needs_background": "light"
          }
        }
      ],
      "source": [
        "plt.hist(dm, bins=10)\n",
        "plt.gca().set(title='Delta Mass Histogram', ylabel='Frequency')"
      ]
    },
    {
      "cell_type": "markdown",
      "metadata": {
        "id": "Wi_3xmQAoCoa"
      },
      "source": [
        "The distribution seems centered around 0, which is good but the histogram has a rather wide bin setting, so we can check with another visualistation. Let's take a look at the violin plot of the absolute error."
      ]
    },
    {
      "cell_type": "code",
      "execution_count": 6,
      "metadata": {
        "colab": {
          "base_uri": "https://localhost:8080/",
          "height": 286
        },
        "id": "km1mA3_IoCob",
        "outputId": "6aaeb019-3a5a-43f1-bc3d-06c5aac86ae6"
      },
      "outputs": [
        {
          "output_type": "execute_result",
          "data": {
            "text/plain": [
              "[]"
            ]
          },
          "metadata": {},
          "execution_count": 6
        },
        {
          "output_type": "display_data",
          "data": {
            "text/plain": [
              "<Figure size 432x288 with 1 Axes>"
            ],
            "image/png": "[encoded data removed]"
          },
          "metadata": {
            "needs_background": "light"
          }
        }
      ],
      "source": [
        "fig,ax = plt.subplots(1)\n",
        "\n",
        "ax.violinplot(np.abs(dm))\n",
        "# plt.violinplot(dm)\n",
        "\n",
        "ax.set_ylabel('Mass error')\n",
        "ax.set_xlabel('Frequency')\n",
        "\n",
        "# Turn off x tick labels\n",
        "ax.set_xticklabels([])"
      ]
    },
    {
      "cell_type": "markdown",
      "metadata": {
        "id": "Man0bIaXoCod"
      },
      "source": [
        "This looks suspicious, we better make some QC metrics to document that! We will describe the found distribution with $\\sigma,Q_1,Q_2,Q_3$ and put it in a mzQC file to share with others.\n",
        "\n",
        "## Creating our metrics"
      ]
    },
    {
      "cell_type": "code",
      "execution_count": 7,
      "metadata": {
        "colab": {
          "base_uri": "https://localhost:8080/"
        },
        "id": "MtV7IYEloCof",
        "outputId": "29e2a3cd-b84b-402b-9570-d7b8fb92d4c5"
      },
      "outputs": [
        {
          "output_type": "stream",
          "name": "stdout",
          "text": [
            "Mass error Q1=-0.0098876953125, Q2=0.0, Q3=0.00299072265625, sigma=0.008799662813544273\n"
          ]
        }
      ],
      "source": [
        "qm1 = qc.QualityMetric(accession=\"QC:0000000\", name=\"Mass error sigma\", value=np.std(dm))\n",
        "\n",
        "q1,q2,q3 = np.quantile(dm, [0.25,0.5,0.75])\n",
        "qm2 = qc.QualityMetric(accession=\"QC:0000000\", name=\"Mass error Q1, Q2, Q3\", value=(q1,q2,q3))\n",
        "\n",
        "print(\"Mass error Q1={}, Q2={}, Q3={}, sigma={}\".format(qm2.value[0],qm2.value[1],qm2.value[2],qm1.value))"
      ]
    },
    {
      "cell_type": "markdown",
      "metadata": {
        "id": "WITYzB46oCoi"
      },
      "source": [
        "Creating a controlled vocabulary defined metric in mzQC is easy! Look for the fitting entry in [our ontology](https://github.com/HUPO-PSI/mzQC/blob/master/cv/qc-cv.obo) or request a [new one](https://github.com/HUPO-PSI/mzQC/issues/new?assignees=julianu&labels=request+for+new+CV+entry&template=request-for-new-cv-entry.md&title=%5BCV+request%5D). Note the name and the accession, then set them as the `QualityMetric`s name and accession. We also need to keep a reference from which ontology this metric came from, so we note this as 'QC'. We will provide details about the ontologies used later. \n",
        "Setting the actual value of a metric is easy, just collect the values you calculated. (They have to be appropriate to the definition of the metric, though.)\n",
        "\n",
        "## Keep track of your sources"
      ]
    },
    {
      "cell_type": "code",
      "execution_count": 8,
      "metadata": {
        "id": "S5E1pYp2oCol"
      },
      "outputs": [],
      "source": [
        "infi_peak = qc.InputFile(name=\"file.raw\",location=\"file:///dev/null/file.raw\", \n",
        "                    fileFormat=qc.CvParameter(accession=\"MS:1000563\", name=\"Thermo RAW format\"), \n",
        "                    fileProperties=[qc.CvParameter(accession=\"MS:1000747\", \n",
        "                                                    name=\"completion time\", \n",
        "                                                    value=\"2015-10-03-T10:18:27Z\"),\n",
        "                            qc.CvParameter(accession=\"MS:1000569\", \n",
        "                                            name=\"SHA-1\", \n",
        "                                            value=\"76de62feccaaaadb608e89d897db57135e39ad87\"\n",
        "                            ),\n",
        "                            qc.CvParameter(accession=\"MS:1000031\", \n",
        "                                            name=\"instrument model\",\n",
        "                                            value=\"LTQ Orbitrap Velos\"\n",
        "                            )\n",
        "            ])"
      ]
    },
    {
      "cell_type": "markdown",
      "metadata": {
        "id": "QP8tamiToCon"
      },
      "source": [
        "It is crucial to provide some more information apart from the metrics themselves. To put the metrics into context, it is essential to keep track of the peak file or acquisition file that constitutes the basis to later data. In our case it is a thermo raw file from which we did the identifications from which we calculated our metric. We need to keep some more information about the origins file apart from the name:\n",
        " * the completion time\n",
        " * the checksum\n",
        " * the instrument type "
      ]
    },
    {
      "cell_type": "code",
      "execution_count": 9,
      "metadata": {
        "id": "i-naaHYBoCop"
      },
      "outputs": [],
      "source": [
        "infi_ids = qc.InputFile(name=\"afteridbeforepercolat.tsv\",location=\"file:///dev/null\", \n",
        "                    fileFormat=qc.CvParameter(accession=\"MS:1000914\", \n",
        "                                name=\"tab delimited text format\"), \n",
        "                    )"
      ]
    },
    {
      "cell_type": "markdown",
      "metadata": {
        "id": "ApGE8mp7oCop"
      },
      "source": [
        "We also want at least to know about the software that was involved in the process of creating the metrics. In our case that is the software that produced the identifications - comet, which has a PSI-MS cv term we can use, and obviously this python notebook."
      ]
    },
    {
      "cell_type": "code",
      "execution_count": 10,
      "metadata": {
        "id": "ny7Mi-TZoCoq"
      },
      "outputs": [],
      "source": [
        "anso_mzqc = qc.AnalysisSoftware(accession=\"MS:1002251\", \n",
        "                                name=\"Comet\",\n",
        "                                version=\"2018.01.1\", \n",
        "                                uri=\"http://proteomicsresource.washington.edu/sequest.php\")\n",
        "anso_nb = qc.AnalysisSoftware(version=\"0.1.2.3\", uri=\"file:///mylocal/jupyter/host\")"
      ]
    },
    {
      "cell_type": "markdown",
      "metadata": {
        "id": "R5aVDnhToCor"
      },
      "source": [
        "## Assemble a mzQC file (object)\n",
        "\n",
        "Now we have all the neccessary information in place to build a descriptive object of the experiment and analysis for the mzQC file:\n",
        "\n",
        "The `metadata`\n",
        "* inputFiles\n",
        "* analysisSoftware\n",
        "\n",
        "and our `qualityMetrics`\n",
        "* qm1\n",
        "* qm2"
      ]
    },
    {
      "cell_type": "code",
      "execution_count": 11,
      "metadata": {
        "id": "gXuAZP0voCos"
      },
      "outputs": [],
      "source": [
        "meta = qc.MetaDataParameters(inputFiles=[infi_peak, infi_ids],analysisSoftware=[anso_mzqc,anso_nb])\n",
        "\n",
        "rq = qc.RunQuality(metadata=meta, qualityMetrics=[qm1, qm2])"
      ]
    },
    {
      "cell_type": "markdown",
      "metadata": {
        "id": "d96aE30-oCos"
      },
      "source": [
        "Now it is time to provide some more information about the ontologies which' terms we were using, so that the next one to read our file can look up the metric definitions, understand what the values mean, and use the data in further analysis."
      ]
    },
    {
      "cell_type": "code",
      "execution_count": 12,
      "metadata": {
        "id": "O-C-braSoCot"
      },
      "outputs": [],
      "source": [
        "cv_qc = qc.ControlledVocabulary(name=\"Proteomics Standards Initiative Quality Control Ontology\",version=\"0.1.0\", uri=\"https://github.com/HUPO-PSI/qcML-development/blob/master/cv/v0_1_0/qc-cv.obo\")\n",
        "\n",
        "cv_ms = qc.ControlledVocabulary(name=\"Proteomics Standards Initiative Mass Spectrometry Ontology\",version=\"4.1.7\", uri=\"https://github.com/HUPO-PSI/psi-ms-CV/blob/master/psi-ms.obo\")"
      ]
    },
    {
      "cell_type": "markdown",
      "metadata": {
        "id": "91pFCDGCoCot"
      },
      "source": [
        "Finally we can put the last pieces together and form a mzQC file. We also note the current time in _ISO 8601 format_, the version of the mzQC format, we were writing. And so we made our first mzQC file."
      ]
    },
    {
      "cell_type": "code",
      "execution_count": 13,
      "metadata": {
        "id": "2YyQhSTSoCou"
      },
      "outputs": [],
      "source": [
        "from datetime import datetime\n",
        "mzqc = qc.MzQcFile(version=\"1.0.0\", creationDate=datetime.now().isoformat(), runQualities=[rq], setQualities=[], controlledVocabularies=[cv_qc, cv_ms])"
      ]
    },
    {
      "cell_type": "markdown",
      "metadata": {
        "id": "m6C3rvQToCov"
      },
      "source": [
        "With some extra python notebook _magic_, we can even download the fruit of our labour. (You need to execute all cells successfully in order to get the download link.)"
      ]
    },
    {
      "cell_type": "code",
      "execution_count": 14,
      "metadata": {
        "colab": {
          "base_uri": "https://localhost:8080/",
          "height": 34
        },
        "id": "WPTkIetGoCox",
        "outputId": "552a7877-28b6-4227-b76a-6a0c0c067ac4"
      },
      "outputs": [
        {
          "output_type": "execute_result",
          "data": {
            "text/plain": [
              "<IPython.core.display.HTML object>"
            ],
            "text/html": [
              "<a download=\"first.mzQC\" href=\"data:application/json;base64,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\" target=\"_blank\">our first mzqc file</a>"
            ]
          },
          "metadata": {},
          "execution_count": 14
        }
      ],
      "source": [
        "from IPython.display import HTML\n",
        "import base64\n",
        "def download_mzqc(mzqc, title, filename):\n",
        "    inmem_file = qc.JsonSerialisable.ToJson(mzqc)\n",
        "    mzqc_b64 = base64.b64encode(inmem_file.encode())\n",
        "    payload = mzqc_b64.decode()\n",
        "    html = '<a download=\"{filename}\" href=\"data:application/json;base64,{payload}\" target=\"_blank\">{title}</a>'\n",
        "    html = html.format(payload=payload,title=title,filename=filename)\n",
        "    return HTML(html)\n",
        "\n",
        "download_mzqc(mzqc, \"our first mzqc file\", \"first.mzQC\")"
      ]
    }
  ],
  "metadata": {
    "file_extension": ".py",
    "kernelspec": {
      "display_name": "Python 3.6.9 64-bit",
      "name": "python369jvsc74a57bd04cd7ab41f5fca4b9b44701077e38c5ffd31fe66a6cab21e0214b68d958d0e462"
    },
    "language_info": {
      "name": "python",
      "version": ""
    },
    "mimetype": "text/x-python",
    "name": "python",
    "npconvert_exporter": "python",
    "orig_nbformat": 2,
    "pygments_lexer": "ipython3",
    "version": 3,
    "colab": {
      "name": "MZQC_in_5_minutes.ipynb",
      "provenance": []
    },
    "gpuClass": "standard"
  },
  "nbformat": 4,
  "nbformat_minor": 0
}

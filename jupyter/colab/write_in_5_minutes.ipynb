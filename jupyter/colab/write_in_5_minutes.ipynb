{
  "cells": [
    {
      "cell_type": "markdown",
      "metadata": {
        "id": "FR3gQi7rVHoN"
      },
      "source": [
        "[![Open In Colab](https://colab.research.google.com/assets/colab-badge.svg)](https://colab.research.google.com/github/MS-Quality-hub/pymzqc/blob/v1.0.0rc1/jupyter/colab/write_in_5_minutes.ipynb)"
      ]
    },
    {
      "cell_type": "markdown",
      "metadata": {
        "id": "IL3OJpGZoCoJ"
      },
      "source": [
        "# Welcome to the 5-Minute mzQC interactive guides with python!\n",
        "\n",
        "This python notebook will guide you through your first steps with writing your own mzQC in python.\n",
        "\n",
        "We will calculate a QC metric from our data, visualise it, put it in a controlled vocabulary  object, add some metadata about the ms-experiment the data came from, and finally create our first mzQC file! (We assume it is not the first time you get your feet wet with python, otherwise rather plan for 25 minutes.)"
      ]
    },
    {
      "cell_type": "markdown",
      "metadata": {
        "id": "2Q3PRPFooCoM"
      },
      "source": [
        "## Setting the scene\n",
        "First, we need to install the mzQC python library. When outside of the python notebook, find out [here](https://github.com/MS-Quality-hub/pymzqc) how to install locally (spoiler: usually just `pip install pymzqc`)."
      ]
    },
    {
      "cell_type": "code",
      "execution_count": 1,
      "metadata": {
        "colab": {
          "base_uri": "https://localhost:8080/"
        },
        "id": "c_iK2GkCojkY",
        "outputId": "81b3b8a9-f6f8-4da3-ea57-65e098c3a39d"
      },
      "outputs": [
        {
          "output_type": "stream",
          "name": "stdout",
          "text": [
            "Collecting git+https://github.com/MS-Quality-Hub/pymzqc.git\n",
            "  Cloning https://github.com/MS-Quality-Hub/pymzqc.git to /tmp/pip-req-build-7a5jynhm\n",
            "  Running command git clone --filter=blob:none --quiet https://github.com/MS-Quality-Hub/pymzqc.git /tmp/pip-req-build-7a5jynhm\n",
            "  Resolved https://github.com/MS-Quality-Hub/pymzqc.git to commit ac0bd7085ce95785ff9abb45fd22e2fb1c714aff\n",
            "  Preparing metadata (setup.py) ... \u001b[?25l\u001b[?25hdone\n",
            "Requirement already satisfied: fastobo in /usr/local/lib/python3.10/dist-packages (0.12.3)\n",
            "Requirement already satisfied: pronto in /usr/local/lib/python3.10/dist-packages (2.5.6)\n",
            "Requirement already satisfied: numpy in /usr/local/lib/python3.10/dist-packages (1.25.2)\n",
            "Requirement already satisfied: pandas in /usr/local/lib/python3.10/dist-packages (1.5.3)\n",
            "Requirement already satisfied: chardet~=5.0 in /usr/local/lib/python3.10/dist-packages (from pronto) (5.2.0)\n",
            "Requirement already satisfied: networkx<4.0,>=2.3 in /usr/local/lib/python3.10/dist-packages (from pronto) (3.2.1)\n",
            "Requirement already satisfied: python-dateutil~=2.8 in /usr/local/lib/python3.10/dist-packages (from pronto) (2.8.2)\n",
            "Requirement already satisfied: pytz>=2020.1 in /usr/local/lib/python3.10/dist-packages (from pandas) (2023.4)\n",
            "Requirement already satisfied: six>=1.5 in /usr/local/lib/python3.10/dist-packages (from python-dateutil~=2.8->pronto) (1.16.0)\n"
          ]
        }
      ],
      "source": [
        "#@title This will install the latest version of pymzqc\n",
        "\n",
        "%pip install --no-deps git+https://github.com/MS-Quality-Hub/pymzqc.git\n",
        "%pip install fastobo pronto numpy pandas"
      ]
    },
    {
      "cell_type": "markdown",
      "metadata": {
        "id": "2ykL5FmvqbsO"
      },
      "source": [
        "Then, we start right in by loading pymzqc (`from mzqc`). We'll also utilise some other libraries, too.\n",
        "For example, we will use `requests` to load some data from the web. This we will use as the computational data basis for the 'QC' metric value we are calculating and later visualise in this python notebook."
      ]
    },
    {
      "cell_type": "code",
      "execution_count": 2,
      "metadata": {
        "id": "Al3jW6O7oCoQ"
      },
      "outputs": [],
      "source": [
        "from mzqc import MZQCFile as qc\n",
        "import numpy as np\n",
        "from io import StringIO\n",
        "import requests\n",
        "import matplotlib.pyplot as plt\n",
        "\n",
        "# Get some input data from the interwebs\n",
        "url = \"https://raw.githubusercontent.com/percolator/percolator/master/data/percolator/tab/percolatorTab\"\n",
        "r = requests.get(url)\n",
        "if r.ok:\n",
        "    data = r.content.decode('utf8')\n",
        "\n",
        "data = '\\n'.join(data.split('\\n')[2:])  # remove the nasty extra header row"
      ]
    },
    {
      "cell_type": "markdown",
      "metadata": {
        "id": "ERF94zUxoCoV"
      },
      "source": [
        "The data is identification data from a yeast digest 2h gradient run, just before you would subject your findings to [percolator](https://github.com/percolator/percolator). We will take a closer look at the mass discrepancies of the found PSMs."
      ]
    },
    {
      "cell_type": "code",
      "execution_count": 3,
      "metadata": {
        "id": "Iu2ZTcPOoCoX"
      },
      "outputs": [],
      "source": [
        "dm_source = np.loadtxt(StringIO(data), usecols=(2,3,4), delimiter='\\t', dtype={'names': ('ScanNr','ExpMass', 'CalcMass'), 'formats': ('i4', 'f4', 'f4')})\n",
        "dm = dm_source['CalcMass'] - dm_source['ExpMass']"
      ]
    },
    {
      "cell_type": "markdown",
      "metadata": {
        "id": "Tg1EVdy2oCoY"
      },
      "source": [
        "## Visualising our data\n",
        "It is good practice to have a look at the data with some basic visualisation. Next, we will plot the mass errors in a histogram."
      ]
    },
    {
      "cell_type": "code",
      "execution_count": 4,
      "metadata": {
        "colab": {
          "base_uri": "https://localhost:8080/",
          "height": 470
        },
        "id": "Wf3z_YY0oCoZ",
        "outputId": "079f095b-5a7b-4273-a159-0ebd18502626"
      },
      "outputs": [
        {
          "output_type": "execute_result",
          "data": {
            "text/plain": [
              "[Text(0.5, 1.0, 'Delta Mass Histogram'), Text(0, 0.5, 'Frequency')]"
            ]
          },
          "metadata": {},
          "execution_count": 4
        },
        {
          "output_type": "display_data",
          "data": {
            "text/plain": [
              "<Figure size 640x480 with 1 Axes>"
            ],
            "image/png": "[encoded data removed]"
          },
          "metadata": {}
        }
      ],
      "source": [
        "plt.hist(dm, bins=10)\n",
        "plt.gca().set(title='Delta Mass Histogram', ylabel='Frequency')"
      ]
    },
    {
      "cell_type": "markdown",
      "metadata": {
        "id": "Wi_3xmQAoCoa"
      },
      "source": [
        "The distribution seems centered around 0, which is good but the histogram has a rather wide bin setting, so we can check with another visualistation. Let's take a look at the violin plot of the absolute error."
      ]
    },
    {
      "cell_type": "code",
      "execution_count": 5,
      "metadata": {
        "colab": {
          "base_uri": "https://localhost:8080/",
          "height": 561
        },
        "id": "km1mA3_IoCob",
        "outputId": "cf9b8a45-aac3-4d43-be75-341b3b89ab4a"
      },
      "outputs": [
        {
          "output_type": "execute_result",
          "data": {
            "text/plain": [
              "[Text(0.7000000000000001, 0, ''),\n",
              " Text(0.8, 0, ''),\n",
              " Text(0.9000000000000001, 0, ''),\n",
              " Text(1.0, 0, ''),\n",
              " Text(1.1, 0, ''),\n",
              " Text(1.2000000000000002, 0, ''),\n",
              " Text(1.3000000000000003, 0, '')]"
            ]
          },
          "metadata": {},
          "execution_count": 5
        },
        {
          "output_type": "display_data",
          "data": {
            "text/plain": [
              "<Figure size 640x480 with 1 Axes>"
            ],
            "image/png": "[encoded data removed]"
          },
          "metadata": {}
        }
      ],
      "source": [
        "fig,ax = plt.subplots(1)\n",
        "\n",
        "ax.violinplot(np.abs(dm))\n",
        "# plt.violinplot(dm)\n",
        "\n",
        "ax.set_ylabel('Mass error')\n",
        "ax.set_xlabel('Frequency')\n",
        "\n",
        "# Turn off x tick labels\n",
        "ax.set_xticklabels([])"
      ]
    },
    {
      "cell_type": "markdown",
      "metadata": {
        "id": "Man0bIaXoCod"
      },
      "source": [
        "This looks suspicious, we better make some QC metrics to document that! We will describe the found distribution with $\\sigma,Q_1,Q_2,Q_3$ and put it in a mzQC file to share with others.\n",
        "\n",
        "## Creating our metrics"
      ]
    },
    {
      "cell_type": "code",
      "execution_count": 6,
      "metadata": {
        "colab": {
          "base_uri": "https://localhost:8080/"
        },
        "id": "MtV7IYEloCof",
        "outputId": "6748d727-7f6a-471b-82a5-93f5291a39a8"
      },
      "outputs": [
        {
          "output_type": "stream",
          "name": "stdout",
          "text": [
            "Mass error Q1=-0.0098876953125, Q2=0.0, Q3=0.00299072265625, sigma=0.008799662813544273\n"
          ]
        }
      ],
      "source": [
        "qm1 = qc.QualityMetric(accession=\"QC:0000000\", name=\"Mass error sigma\", value=np.std(dm))\n",
        "\n",
        "q1,q2,q3 = np.quantile(dm, [0.25,0.5,0.75])\n",
        "qm2 = qc.QualityMetric(accession=\"QC:0000000\", name=\"Mass error Q1, Q2, Q3\", value=(q1,q2,q3))\n",
        "\n",
        "print(\"Mass error Q1={}, Q2={}, Q3={}, sigma={}\".format(qm2.value[0],qm2.value[1],qm2.value[2],qm1.value))"
      ]
    },
    {
      "cell_type": "markdown",
      "metadata": {
        "id": "WITYzB46oCoi"
      },
      "source": [
        "Creating a controlled vocabulary defined metric in mzQC is easy! Look for the fitting entry in [our ontology](https://github.com/HUPO-PSI/mzQC/blob/master/cv/qc-cv.obo) or request a [new one](https://github.com/HUPO-PSI/mzQC/issues/new?assignees=julianu&labels=request+for+new+CV+entry&template=request-for-new-cv-entry.md&title=%5BCV+request%5D). Note the name and the accession, then set them as the `QualityMetric`s name and accession. We also need to keep a reference from which ontology this metric came from, so we note this as 'QC'. We will provide details about the ontologies used later.\n",
        "Setting the actual value of a metric is easy, just collect the values you calculated. (They have to be appropriate to the definition of the metric, though.)\n",
        "\n",
        "## Keep track of your sources"
      ]
    },
    {
      "cell_type": "code",
      "execution_count": 7,
      "metadata": {
        "id": "S5E1pYp2oCol"
      },
      "outputs": [],
      "source": [
        "infi_peak = qc.InputFile(name=\"file.raw\",location=\"file:///dev/null/file.raw\",\n",
        "                    fileFormat=qc.CvParameter(accession=\"MS:1000563\", name=\"Thermo RAW format\"),\n",
        "                    fileProperties=[qc.CvParameter(accession=\"MS:1000747\",\n",
        "                                                    name=\"completion time\",\n",
        "                                                    value=\"2015-10-03-T10:18:27Z\"),\n",
        "                            qc.CvParameter(accession=\"MS:1000569\",\n",
        "                                            name=\"SHA-1\",\n",
        "                                            value=\"76de62feccaaaadb608e89d897db57135e39ad87\"\n",
        "                            ),\n",
        "                            qc.CvParameter(accession=\"MS:1000031\",\n",
        "                                            name=\"instrument model\",\n",
        "                                            value=\"LTQ Orbitrap Velos\"\n",
        "                            )\n",
        "            ])"
      ]
    },
    {
      "cell_type": "markdown",
      "metadata": {
        "id": "QP8tamiToCon"
      },
      "source": [
        "It is crucial to provide some more information apart from the metrics themselves. To put the metrics into context, it is essential to keep track of the peak file or acquisition file that constitutes the basis to later data. In our case it is a thermo raw file from which we did the identifications from which we calculated our metric. We need to keep some more information about the origins file apart from the name:\n",
        " * the completion time\n",
        " * the checksum\n",
        " * the instrument type"
      ]
    },
    {
      "cell_type": "code",
      "execution_count": 8,
      "metadata": {
        "id": "i-naaHYBoCop"
      },
      "outputs": [],
      "source": [
        "infi_ids = qc.InputFile(name=\"afteridbeforepercolat.tsv\",location=\"file:///dev/null\",\n",
        "                    fileFormat=qc.CvParameter(accession=\"MS:1000914\",\n",
        "                                name=\"tab delimited text format\"),\n",
        "                    )"
      ]
    },
    {
      "cell_type": "markdown",
      "metadata": {
        "id": "ApGE8mp7oCop"
      },
      "source": [
        "We also want at least to know about the software that was involved in the process of creating the metrics. In our case that is the software that produced the identifications - comet, which has a PSI-MS cv term we can use, and obviously this python notebook."
      ]
    },
    {
      "cell_type": "code",
      "execution_count": 9,
      "metadata": {
        "id": "ny7Mi-TZoCoq"
      },
      "outputs": [],
      "source": [
        "anso_mzqc = qc.AnalysisSoftware(accession=\"MS:1002251\",\n",
        "                                name=\"Comet\",\n",
        "                                version=\"2018.01.1\",\n",
        "                                uri=\"http://proteomicsresource.washington.edu/sequest.php\")\n",
        "anso_nb = qc.AnalysisSoftware(version=\"0.1.2.3\", uri=\"file:///mylocal/jupyter/host\")"
      ]
    },
    {
      "cell_type": "markdown",
      "metadata": {
        "id": "R5aVDnhToCor"
      },
      "source": [
        "## Assemble a mzQC file (object)\n",
        "\n",
        "Now we have all the neccessary information in place to build a descriptive object of the experiment and analysis for the mzQC file:\n",
        "\n",
        "The `metadata`\n",
        "* inputFiles\n",
        "* analysisSoftware\n",
        "\n",
        "and our `qualityMetrics`\n",
        "* qm1\n",
        "* qm2"
      ]
    },
    {
      "cell_type": "code",
      "execution_count": 10,
      "metadata": {
        "id": "gXuAZP0voCos"
      },
      "outputs": [],
      "source": [
        "meta = qc.MetaDataParameters(inputFiles=[infi_peak, infi_ids],analysisSoftware=[anso_mzqc,anso_nb])\n",
        "\n",
        "rq = qc.RunQuality(metadata=meta, qualityMetrics=[qm1, qm2])"
      ]
    },
    {
      "cell_type": "markdown",
      "metadata": {
        "id": "d96aE30-oCos"
      },
      "source": [
        "Now it is time to provide some more information about the ontologies which' terms we were using, so that the next one to read our file can look up the metric definitions, understand what the values mean, and use the data in further analysis."
      ]
    },
    {
      "cell_type": "code",
      "execution_count": 11,
      "metadata": {
        "id": "O-C-braSoCot"
      },
      "outputs": [],
      "source": [
        "cv_qc = qc.ControlledVocabulary(name=\"Proteomics Standards Initiative Quality Control Ontology\",version=\"0.1.0\", uri=\"https://github.com/HUPO-PSI/qcML-development/blob/master/cv/v0_1_0/qc-cv.obo\")\n",
        "\n",
        "cv_ms = qc.ControlledVocabulary(name=\"Proteomics Standards Initiative Mass Spectrometry Ontology\",version=\"4.1.7\", uri=\"https://github.com/HUPO-PSI/psi-ms-CV/blob/master/psi-ms.obo\")"
      ]
    },
    {
      "cell_type": "markdown",
      "metadata": {
        "id": "91pFCDGCoCot"
      },
      "source": [
        "Finally we can put the last pieces together and form a mzQC file. We also note the current time in _ISO 8601 format_, the version of the mzQC format, we were writing. And so we made our first mzQC file."
      ]
    },
    {
      "cell_type": "code",
      "execution_count": 12,
      "metadata": {
        "id": "2YyQhSTSoCou"
      },
      "outputs": [],
      "source": [
        "from datetime import datetime\n",
        "mzqc = qc.MzQcFile(version=\"1.0.0\", creationDate=datetime.now().isoformat(), runQualities=[rq], setQualities=[], controlledVocabularies=[cv_qc, cv_ms])"
      ]
    },
    {
      "cell_type": "markdown",
      "metadata": {
        "id": "m6C3rvQToCov"
      },
      "source": [
        "With some extra python notebook _magic_, we can even download the fruit of our labour. (You need to execute all cells successfully in order to get the download link.)"
      ]
    },
    {
      "cell_type": "code",
      "execution_count": 13,
      "metadata": {
        "colab": {
          "base_uri": "https://localhost:8080/",
          "height": 34
        },
        "id": "WPTkIetGoCox",
        "outputId": "f15d555b-11ba-476e-d82c-1b7e2d4d7132"
      },
      "outputs": [
        {
          "output_type": "execute_result",
          "data": {
            "text/plain": [
              "<IPython.core.display.HTML object>"
            ],
            "text/html": [
              "<a download=\"first.mzQC\" href=\"data:application/json;base64,eyJtelFDIjogCnsKICAgICJjcmVhdGlvbkRhdGUiOiAiMjAyNC0wMy0xOVQwNzoxNjowOS42MjE2MzNaIiwKICAgICJ2ZXJzaW9uIjogIjEuMC4wIiwKICAgICAgICAgICAgICAgICJydW5RdWFsaXRpZXMiOiBbCiAgICAgICAgewogICAgICAgICAgICAibWV0YWRhdGEiOiB7CiAgICAgICAgICAgICAgICAiaW5wdXRGaWxlcyI6IFsKICAgICAgICAgICAgICAgICAgICB7CiAgICAgICAgICAgICAgICAgICAgICAgICJsb2NhdGlvbiI6ICJmaWxlOi8vL2Rldi9udWxsL2ZpbGUucmF3IiwKICAgICAgICAgICAgICAgICAgICAgICAgIm5hbWUiOiAiZmlsZS5yYXciLAogICAgICAgICAgICAgICAgICAgICAgICAiZmlsZUZvcm1hdCI6IHsKICAgICAgICAgICAgICAgICAgICAgICAgICAgICJhY2Nlc3Npb24iOiAiTVM6MTAwMDU2MyIsCiAgICAgICAgICAgICAgICAgICAgICAgICAgICAibmFtZSI6ICJUaGVybW8gUkFXIGZvcm1hdCIKICAgICAgICAgICAgICAgICAgICAgICAgfSwKICAgICAgICAgICAgICAgICAgICAgICAgImZpbGVQcm9wZXJ0aWVzIjogWwogICAgICAgICAgICAgICAgICAgICAgICAgICAgewogICAgICAgICAgICAgICAgICAgICAgICAgICAgICAgICJhY2Nlc3Npb24iOiAiTVM6MTAwMDc0NyIsCiAgICAgICAgICAgICAgICAgICAgICAgICAgICAgICAgIm5hbWUiOiAiY29tcGxldGlvbiB0aW1lIiwKICAgICAgICAgICAgICAgICAgICAgICAgICAgICAgICAidmFsdWUiOiAiMjAxNS0xMC0wMy1UMTA6MTg6MjdaIgogICAgICAgICAgICAgICAgICAgICAgICAgICAgfSwKICAgICAgICAgICAgICAgICAgICAgICAgICAgIHsKICAgICAgICAgICAgICAgICAgICAgICAgICAgICAgICAiYWNjZXNzaW9uIjogIk1TOjEwMDA1NjkiLAogICAgICAgICAgICAgICAgICAgICAgICAgICAgICAgICJuYW1lIjogIlNIQS0xIiwKICAgICAgICAgICAgICAgICAgICAgICAgICAgICAgICAidmFsdWUiOiAiNzZkZTYyZmVjY2FhYWFkYjYwOGU4OWQ4OTdkYjU3MTM1ZTM5YWQ4NyIKICAgICAgICAgICAgICAgICAgICAgICAgICAgIH0sCiAgICAgICAgICAgICAgICAgICAgICAgICAgICB7CiAgICAgICAgICAgICAgICAgICAgICAgICAgICAgICAgImFjY2Vzc2lvbiI6ICJNUzoxMDAwMDMxIiwKICAgICAgICAgICAgICAgICAgICAgICAgICAgICAgICAibmFtZSI6ICJpbnN0cnVtZW50IG1vZGVsIiwKICAgICAgICAgICAgICAgICAgICAgICAgICAgICAgICAidmFsdWUiOiAiTFRRIE9yYml0cmFwIFZlbG9zIgogICAgICAgICAgICAgICAgICAgICAgICAgICAgfQogICAgICAgICAgICAgICAgICAgICAgICBdCiAgICAgICAgICAgICAgICAgICAgfSwKICAgICAgICAgICAgICAgICAgICB7CiAgICAgICAgICAgICAgICAgICAgICAgICJsb2NhdGlvbiI6ICJmaWxlOi8vL2Rldi9udWxsIiwKICAgICAgICAgICAgICAgICAgICAgICAgIm5hbWUiOiAiYWZ0ZXJpZGJlZm9yZXBlcmNvbGF0LnRzdiIsCiAgICAgICAgICAgICAgICAgICAgICAgICJmaWxlRm9ybWF0IjogewogICAgICAgICAgICAgICAgICAgICAgICAgICAgImFjY2Vzc2lvbiI6ICJNUzoxMDAwOTE0IiwKICAgICAgICAgICAgICAgICAgICAgICAgICAgICJuYW1lIjogInRhYiBkZWxpbWl0ZWQgdGV4dCBmb3JtYXQiCiAgICAgICAgICAgICAgICAgICAgICAgIH0sCiAgICAgICAgICAgICAgICAgICAgICAgICJmaWxlUHJvcGVydGllcyI6IFtdCiAgICAgICAgICAgICAgICAgICAgfQogICAgICAgICAgICAgICAgXSwKICAgICAgICAgICAgICAgICJhbmFseXNpc1NvZnR3YXJlIjogWwogICAgICAgICAgICAgICAgICAgIHsKICAgICAgICAgICAgICAgICAgICAgICAgImFjY2Vzc2lvbiI6ICJNUzoxMDAyMjUxIiwKICAgICAgICAgICAgICAgICAgICAgICAgIm5hbWUiOiAiQ29tZXQiLAogICAgICAgICAgICAgICAgICAgICAgICAidmVyc2lvbiI6ICIyMDE4LjAxLjEiLAogICAgICAgICAgICAgICAgICAgICAgICAidXJpIjogImh0dHA6Ly9wcm90ZW9taWNzcmVzb3VyY2Uud2FzaGluZ3Rvbi5lZHUvc2VxdWVzdC5waHAiCiAgICAgICAgICAgICAgICAgICAgfSwKICAgICAgICAgICAgICAgICAgICB7CiAgICAgICAgICAgICAgICAgICAgICAgICJ2ZXJzaW9uIjogIjAuMS4yLjMiLAogICAgICAgICAgICAgICAgICAgICAgICAidXJpIjogImZpbGU6Ly8vbXlsb2NhbC9qdXB5dGVyL2hvc3QiCiAgICAgICAgICAgICAgICAgICAgfQogICAgICAgICAgICAgICAgXQogICAgICAgICAgICB9LAogICAgICAgICAgICAicXVhbGl0eU1ldHJpY3MiOiBbCiAgICAgICAgICAgICAgICB7CiAgICAgICAgICAgICAgICAgICAgImFjY2Vzc2lvbiI6ICJRQzowMDAwMDAwIiwKICAgICAgICAgICAgICAgICAgICAibmFtZSI6ICJNYXNzIGVycm9yIHNpZ21hIiwKICAgICAgICAgICAgICAgICAgICAidmFsdWUiOiAwLjAwODc5OTY2MjgxMzU0NDI3MwogICAgICAgICAgICAgICAgfSwKICAgICAgICAgICAgICAgIHsKICAgICAgICAgICAgICAgICAgICAiYWNjZXNzaW9uIjogIlFDOjAwMDAwMDAiLAogICAgICAgICAgICAgICAgICAgICJuYW1lIjogIk1hc3MgZXJyb3IgUTEsIFEyLCBRMyIsCiAgICAgICAgICAgICAgICAgICAgInZhbHVlIjogWwogICAgICAgICAgICAgICAgICAgICAgICAtMC4wMDk4ODc2OTUzMTI1LAogICAgICAgICAgICAgICAgICAgICAgICAwLjAsCiAgICAgICAgICAgICAgICAgICAgICAgIDAuMDAyOTkwNzIyNjU2MjUKICAgICAgICAgICAgICAgICAgICBdCiAgICAgICAgICAgICAgICB9CiAgICAgICAgICAgIF0KICAgICAgICB9CiAgICBdLAogICAgCiAgICAiY29udHJvbGxlZFZvY2FidWxhcmllcyI6IFsKICAgICAgICB7CiAgICAgICAgICAgICJuYW1lIjogIlByb3Rlb21pY3MgU3RhbmRhcmRzIEluaXRpYXRpdmUgUXVhbGl0eSBDb250cm9sIE9udG9sb2d5IiwKICAgICAgICAgICAgInVyaSI6ICJodHRwczovL2dpdGh1Yi5jb20vSFVQTy1QU0kvcWNNTC1kZXZlbG9wbWVudC9ibG9iL21hc3Rlci9jdi92MF8xXzAvcWMtY3Yub2JvIiwKICAgICAgICAgICAgInZlcnNpb24iOiAiMC4xLjAiCiAgICAgICAgfSwKICAgICAgICB7CiAgICAgICAgICAgICJuYW1lIjogIlByb3Rlb21pY3MgU3RhbmRhcmRzIEluaXRpYXRpdmUgTWFzcyBTcGVjdHJvbWV0cnkgT250b2xvZ3kiLAogICAgICAgICAgICAidXJpIjogImh0dHBzOi8vZ2l0aHViLmNvbS9IVVBPLVBTSS9wc2ktbXMtQ1YvYmxvYi9tYXN0ZXIvcHNpLW1zLm9ibyIsCiAgICAgICAgICAgICJ2ZXJzaW9uIjogIjQuMS43IgogICAgICAgIH0KICAgIF0KfSAKfQ==\" target=\"_blank\">our first mzqc file</a>"
            ]
          },
          "metadata": {},
          "execution_count": 13
        }
      ],
      "source": [
        "from IPython.display import HTML\n",
        "import base64\n",
        "def download_mzqc(mzqc, title, filename):\n",
        "    inmem_file = qc.JsonSerialisable.ToJson(mzqc, readability=2)\n",
        "    mzqc_b64 = base64.b64encode(inmem_file.encode())\n",
        "    payload = mzqc_b64.decode()\n",
        "    html = '<a download=\"{filename}\" href=\"data:application/json;base64,{payload}\" target=\"_blank\">{title}</a>'\n",
        "    html = html.format(payload=payload,title=title,filename=filename)\n",
        "    return HTML(html)\n",
        "\n",
        "download_mzqc(mzqc, \"our first mzqc file\", \"first.mzQC\")"
      ]
    },
    {
      "cell_type": "code",
      "source": [],
      "metadata": {
        "id": "0fKBFyt4huKW"
      },
      "execution_count": 13,
      "outputs": []
    }
  ],
  "metadata": {
    "colab": {
      "name": "write_in_5_minutes.ipynb",
      "provenance": []
    },
    "file_extension": ".py",
    "gpuClass": "standard",
    "kernelspec": {
      "display_name": "Python 3.6.9 64-bit",
      "language": "python",
      "name": "python3"
    },
    "language_info": {
      "name": "python",
      "version": "3.6.9"
    },
    "mimetype": "text/x-python",
    "name": "python",
    "npconvert_exporter": "python",
    "orig_nbformat": 2,
    "pygments_lexer": "ipython3",
    "version": 3,
    "vscode": {
      "interpreter": {
        "hash": "949777d72b0d2535278d3dc13498b2535136f6dfe0678499012e853ee9abcab1"
      }
    }
  },
  "nbformat": 4,
  "nbformat_minor": 0
}